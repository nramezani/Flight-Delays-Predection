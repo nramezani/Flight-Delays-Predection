{
 "cells": [
  {
   "cell_type": "code",
   "execution_count": 5,
   "id": "8dd84162",
   "metadata": {},
   "outputs": [
    {
     "name": "stdout",
     "output_type": "stream",
     "text": [
      "Collecting xgboost\n",
      "  Using cached xgboost-1.5.2-py3-none-win_amd64.whl (106.6 MB)\n",
      "Requirement already satisfied: scipy in c:\\users\\my account\\appdata\\local\\packages\\pythonsoftwarefoundation.python.3.9_qbz5n2kfra8p0\\localcache\\local-packages\\python39\\site-packages (from xgboost) (1.8.0)\n",
      "Requirement already satisfied: numpy in c:\\users\\my account\\appdata\\local\\packages\\pythonsoftwarefoundation.python.3.9_qbz5n2kfra8p0\\localcache\\local-packages\\python39\\site-packages (from xgboost) (1.22.2)\n",
      "Installing collected packages: xgboost\n",
      "Successfully installed xgboost-1.5.2\n"
     ]
    }
   ],
   "source": [
    "#!pip install statsmodels \n",
    "!pip install xgboost"
   ]
  },
  {
   "cell_type": "code",
   "execution_count": 29,
   "id": "8607bec7",
   "metadata": {},
   "outputs": [],
   "source": [
    "#loading packages\n",
    "import pandas as pd\n",
    "import numpy as np\n",
    "import statsmodels.api as sm\n",
    "from sklearn.model_selection import train_test_split\n",
    "from sklearn.linear_model import LinearRegression\n",
    "from sklearn.feature_selection import RFE\n",
    "import matplotlib.pyplot as plt\n",
    "import seaborn as sns\n",
    "import plotly.graph_objects as go\n",
    "\n",
    "%matplotlib inline\n",
    "from sklearn.linear_model import RidgeCV, LassoCV, Ridge, Lasso\n",
    "from sklearn.preprocessing import LabelEncoder\n",
    "import sklearn.preprocessing\n",
    "from sklearn.linear_model import LinearRegression\n",
    "from sklearn.metrics import mean_absolute_error\n",
    "from sklearn.metrics import r2_score\n",
    "from sklearn.preprocessing import StandardScaler\n",
    "from sklearn.model_selection import train_test_split\n",
    "from sklearn.metrics import mean_squared_error\n",
    "import xgboost as xgb"
   ]
  },
  {
   "cell_type": "code",
   "execution_count": 30,
   "id": "bc9769a8",
   "metadata": {},
   "outputs": [
    {
     "data": {
      "text/html": [
       "<div>\n",
       "<style scoped>\n",
       "    .dataframe tbody tr th:only-of-type {\n",
       "        vertical-align: middle;\n",
       "    }\n",
       "\n",
       "    .dataframe tbody tr th {\n",
       "        vertical-align: top;\n",
       "    }\n",
       "\n",
       "    .dataframe thead th {\n",
       "        text-align: right;\n",
       "    }\n",
       "</style>\n",
       "<table border=\"1\" class=\"dataframe\">\n",
       "  <thead>\n",
       "    <tr style=\"text-align: right;\">\n",
       "      <th></th>\n",
       "      <th>crs_elapsed_time</th>\n",
       "      <th>air_time</th>\n",
       "      <th>distance</th>\n",
       "      <th>carrier</th>\n",
       "      <th>mean_origin</th>\n",
       "      <th>mean_dest</th>\n",
       "      <th>mean_hist_dep_delay</th>\n",
       "      <th>mean_hist_arr_delay</th>\n",
       "      <th>crs_dep_time_1</th>\n",
       "      <th>crs_dep_time_2</th>\n",
       "      <th>...</th>\n",
       "      <th>dest_363</th>\n",
       "      <th>dest_364</th>\n",
       "      <th>dest_365</th>\n",
       "      <th>dest_366</th>\n",
       "      <th>dest_367</th>\n",
       "      <th>dest_368</th>\n",
       "      <th>dest_369</th>\n",
       "      <th>dest_370</th>\n",
       "      <th>dest_371</th>\n",
       "      <th>arr_delay</th>\n",
       "    </tr>\n",
       "  </thead>\n",
       "  <tbody>\n",
       "    <tr>\n",
       "      <th>0</th>\n",
       "      <td>-0.330585</td>\n",
       "      <td>-0.423369</td>\n",
       "      <td>-0.502097</td>\n",
       "      <td>-0.587808</td>\n",
       "      <td>-0.827059</td>\n",
       "      <td>0.897653</td>\n",
       "      <td>0.640120</td>\n",
       "      <td>0.411227</td>\n",
       "      <td>-0.028143</td>\n",
       "      <td>-0.015226</td>\n",
       "      <td>...</td>\n",
       "      <td>-0.011153</td>\n",
       "      <td>-0.031468</td>\n",
       "      <td>-0.009209</td>\n",
       "      <td>-0.005824</td>\n",
       "      <td>-0.04277</td>\n",
       "      <td>-0.005317</td>\n",
       "      <td>-0.009511</td>\n",
       "      <td>-0.01366</td>\n",
       "      <td>-0.014464</td>\n",
       "      <td>-14.0</td>\n",
       "    </tr>\n",
       "    <tr>\n",
       "      <th>1</th>\n",
       "      <td>0.757762</td>\n",
       "      <td>0.915106</td>\n",
       "      <td>0.556956</td>\n",
       "      <td>-0.934657</td>\n",
       "      <td>1.363291</td>\n",
       "      <td>1.333490</td>\n",
       "      <td>0.889199</td>\n",
       "      <td>0.963773</td>\n",
       "      <td>-0.028143</td>\n",
       "      <td>-0.015226</td>\n",
       "      <td>...</td>\n",
       "      <td>-0.011153</td>\n",
       "      <td>-0.031468</td>\n",
       "      <td>-0.009209</td>\n",
       "      <td>-0.005824</td>\n",
       "      <td>-0.04277</td>\n",
       "      <td>-0.005317</td>\n",
       "      <td>-0.009511</td>\n",
       "      <td>-0.01366</td>\n",
       "      <td>-0.014464</td>\n",
       "      <td>19.0</td>\n",
       "    </tr>\n",
       "    <tr>\n",
       "      <th>2</th>\n",
       "      <td>0.325214</td>\n",
       "      <td>0.368202</td>\n",
       "      <td>0.440989</td>\n",
       "      <td>-0.587808</td>\n",
       "      <td>0.257010</td>\n",
       "      <td>-0.186138</td>\n",
       "      <td>1.252072</td>\n",
       "      <td>1.073679</td>\n",
       "      <td>-0.028143</td>\n",
       "      <td>-0.015226</td>\n",
       "      <td>...</td>\n",
       "      <td>-0.011153</td>\n",
       "      <td>-0.031468</td>\n",
       "      <td>-0.009209</td>\n",
       "      <td>-0.005824</td>\n",
       "      <td>-0.04277</td>\n",
       "      <td>-0.005317</td>\n",
       "      <td>-0.009511</td>\n",
       "      <td>-0.01366</td>\n",
       "      <td>-0.014464</td>\n",
       "      <td>-14.0</td>\n",
       "    </tr>\n",
       "    <tr>\n",
       "      <th>3</th>\n",
       "      <td>-0.121287</td>\n",
       "      <td>-0.092348</td>\n",
       "      <td>-0.056988</td>\n",
       "      <td>-0.934657</td>\n",
       "      <td>1.046254</td>\n",
       "      <td>1.112326</td>\n",
       "      <td>1.089943</td>\n",
       "      <td>1.073679</td>\n",
       "      <td>-0.028143</td>\n",
       "      <td>-0.015226</td>\n",
       "      <td>...</td>\n",
       "      <td>-0.011153</td>\n",
       "      <td>-0.031468</td>\n",
       "      <td>-0.009209</td>\n",
       "      <td>-0.005824</td>\n",
       "      <td>-0.04277</td>\n",
       "      <td>-0.005317</td>\n",
       "      <td>-0.009511</td>\n",
       "      <td>-0.01366</td>\n",
       "      <td>-0.014464</td>\n",
       "      <td>-14.0</td>\n",
       "    </tr>\n",
       "    <tr>\n",
       "      <th>4</th>\n",
       "      <td>-0.358491</td>\n",
       "      <td>-0.365800</td>\n",
       "      <td>-0.239465</td>\n",
       "      <td>1.493283</td>\n",
       "      <td>0.503874</td>\n",
       "      <td>-0.203897</td>\n",
       "      <td>0.889199</td>\n",
       "      <td>1.086117</td>\n",
       "      <td>-0.028143</td>\n",
       "      <td>-0.015226</td>\n",
       "      <td>...</td>\n",
       "      <td>-0.011153</td>\n",
       "      <td>-0.031468</td>\n",
       "      <td>-0.009209</td>\n",
       "      <td>-0.005824</td>\n",
       "      <td>-0.04277</td>\n",
       "      <td>-0.005317</td>\n",
       "      <td>-0.009511</td>\n",
       "      <td>-0.01366</td>\n",
       "      <td>-0.014464</td>\n",
       "      <td>-17.0</td>\n",
       "    </tr>\n",
       "  </tbody>\n",
       "</table>\n",
       "<p>5 rows × 827 columns</p>\n",
       "</div>"
      ],
      "text/plain": [
       "   crs_elapsed_time  air_time  distance   carrier  mean_origin  mean_dest  \\\n",
       "0         -0.330585 -0.423369 -0.502097 -0.587808    -0.827059   0.897653   \n",
       "1          0.757762  0.915106  0.556956 -0.934657     1.363291   1.333490   \n",
       "2          0.325214  0.368202  0.440989 -0.587808     0.257010  -0.186138   \n",
       "3         -0.121287 -0.092348 -0.056988 -0.934657     1.046254   1.112326   \n",
       "4         -0.358491 -0.365800 -0.239465  1.493283     0.503874  -0.203897   \n",
       "\n",
       "   mean_hist_dep_delay  mean_hist_arr_delay  crs_dep_time_1  crs_dep_time_2  \\\n",
       "0             0.640120             0.411227       -0.028143       -0.015226   \n",
       "1             0.889199             0.963773       -0.028143       -0.015226   \n",
       "2             1.252072             1.073679       -0.028143       -0.015226   \n",
       "3             1.089943             1.073679       -0.028143       -0.015226   \n",
       "4             0.889199             1.086117       -0.028143       -0.015226   \n",
       "\n",
       "   ...  dest_363  dest_364  dest_365  dest_366  dest_367  dest_368  dest_369  \\\n",
       "0  ... -0.011153 -0.031468 -0.009209 -0.005824  -0.04277 -0.005317 -0.009511   \n",
       "1  ... -0.011153 -0.031468 -0.009209 -0.005824  -0.04277 -0.005317 -0.009511   \n",
       "2  ... -0.011153 -0.031468 -0.009209 -0.005824  -0.04277 -0.005317 -0.009511   \n",
       "3  ... -0.011153 -0.031468 -0.009209 -0.005824  -0.04277 -0.005317 -0.009511   \n",
       "4  ... -0.011153 -0.031468 -0.009209 -0.005824  -0.04277 -0.005317 -0.009511   \n",
       "\n",
       "   dest_370  dest_371  arr_delay  \n",
       "0  -0.01366 -0.014464      -14.0  \n",
       "1  -0.01366 -0.014464       19.0  \n",
       "2  -0.01366 -0.014464      -14.0  \n",
       "3  -0.01366 -0.014464      -14.0  \n",
       "4  -0.01366 -0.014464      -17.0  \n",
       "\n",
       "[5 rows x 827 columns]"
      ]
     },
     "execution_count": 30,
     "metadata": {},
     "output_type": "execute_result"
    }
   ],
   "source": [
    "#load data\n",
    "df = pd.read_csv('data/flights_model.csv')\n",
    "df.head()"
   ]
  },
  {
   "cell_type": "code",
   "execution_count": 32,
   "id": "b7af8394",
   "metadata": {},
   "outputs": [],
   "source": [
    "col=['air_time','carrier']\n",
    "df.drop(col,axis=1,inplace=True)"
   ]
  },
  {
   "cell_type": "markdown",
   "id": "4812c953",
   "metadata": {},
   "source": [
    "# Setting x and y values"
   ]
  },
  {
   "cell_type": "code",
   "execution_count": 11,
   "id": "63d6640e",
   "metadata": {},
   "outputs": [],
   "source": [
    "X = df.drop('arr_delay',axis=1)\n",
    "y = df['arr_delay']"
   ]
  },
  {
   "cell_type": "markdown",
   "id": "bbf35476",
   "metadata": {},
   "source": [
    "# Lasso = Feature Importance"
   ]
  },
  {
   "cell_type": "code",
   "execution_count": 4,
   "id": "52fe6380",
   "metadata": {},
   "outputs": [
    {
     "name": "stdout",
     "output_type": "stream",
     "text": [
      "Lasso picked 672 variables and eliminated the other 154 variables\n"
     ]
    }
   ],
   "source": [
    "reg = LassoCV()\n",
    "reg.fit(X, y)\n",
    "coef = pd.Series(reg.coef_, index = X.columns)\n",
    "print(\"Lasso picked \" + str(sum(coef != 0)) + \" variables and eliminated the other \" +  str(sum(coef == 0)) + \" variables\")\n",
    "\n",
    "import matplotlib.pyplot as plt\n",
    "import matplotlib\n",
    "imp_coef = coef.sort_values()\n",
    "\n",
    "#matplotlib.rcParams['figure.figsize'] = (8.0, 10.0)\n",
    "#imp_coef.plot(kind = \"barh\")\n",
    "#plt.title(\"Feature importance using Lasso Model\")"
   ]
  },
  {
   "cell_type": "markdown",
   "id": "84d361a7",
   "metadata": {},
   "source": [
    "# Splitting of data"
   ]
  },
  {
   "cell_type": "code",
   "execution_count": 12,
   "id": "78b822f6",
   "metadata": {},
   "outputs": [],
   "source": [
    "scaler = StandardScaler()\n",
    "scaled_df = scaler.fit_transform(X)\n",
    "X_train, X_test, y_train, y_test = train_test_split(X, y, test_size=0.3)"
   ]
  },
  {
   "cell_type": "markdown",
   "id": "1f9446c8",
   "metadata": {},
   "source": [
    "# Lasso Regression"
   ]
  },
  {
   "cell_type": "code",
   "execution_count": 6,
   "id": "e7e8a550",
   "metadata": {},
   "outputs": [
    {
     "name": "stdout",
     "output_type": "stream",
     "text": [
      "RSME:  13.309292138385318\n",
      "R2:  0.21351092323699117\n"
     ]
    }
   ],
   "source": [
    "reg = LassoCV()\n",
    "reg.fit(X, y)\n",
    "model_lasso = Lasso(alpha=0.01)\n",
    "model_lasso.fit(X_train, y_train) \n",
    "pred_test_lasso= model_lasso.predict(X_test)\n",
    "print('RSME: ',np.sqrt(mean_squared_error(y_test,pred_test_lasso))) \n",
    "print('R2: ',r2_score(y_test, pred_test_lasso))"
   ]
  },
  {
   "cell_type": "markdown",
   "id": "4d35be04",
   "metadata": {},
   "source": [
    "# Ridge Regression"
   ]
  },
  {
   "cell_type": "code",
   "execution_count": 23,
   "id": "0686d1c9",
   "metadata": {},
   "outputs": [
    {
     "name": "stdout",
     "output_type": "stream",
     "text": [
      "RSME:  13.378960647641172\n",
      "R2:  0.2108460121457455\n"
     ]
    }
   ],
   "source": [
    "rr = Ridge(alpha=0.01)\n",
    "rr.fit(X_train, y_train) \n",
    "pred_test_rr= rr.predict(X_test)\n",
    "print('RSME: ',np.sqrt(mean_squared_error(y_test,pred_test_rr))) \n",
    "print('R2: ',r2_score(y_test, pred_test_rr))"
   ]
  },
  {
   "cell_type": "markdown",
   "id": "aeb3c1a0",
   "metadata": {},
   "source": [
    "# Random Forest"
   ]
  },
  {
   "cell_type": "code",
   "execution_count": 13,
   "id": "3d4cf5f3",
   "metadata": {},
   "outputs": [
    {
     "name": "stdout",
     "output_type": "stream",
     "text": [
      "R2 score: 0.16152954235697714\n",
      "RMSE: 13.798270400183366\n"
     ]
    }
   ],
   "source": [
    "from sklearn.ensemble import RandomForestRegressor\n",
    "rf = RandomForestRegressor(n_estimators=100)\n",
    "rf.fit(X_train,y_train)\n",
    "y_pred_RF = rf.predict(X_test)\n",
    "from sklearn import metrics\n",
    "print('R2 score:',r2_score(y_test, y_pred_RF))\n",
    "print('RMSE:', np.sqrt(metrics.mean_squared_error(y_test, y_pred_RF)))"
   ]
  },
  {
   "cell_type": "markdown",
   "id": "6ee989c7",
   "metadata": {},
   "source": [
    "# XGBoost"
   ]
  },
  {
   "cell_type": "code",
   "execution_count": 14,
   "id": "14a6899e",
   "metadata": {},
   "outputs": [
    {
     "name": "stderr",
     "output_type": "stream",
     "text": [
      "C:\\Users\\My account\\AppData\\Local\\Packages\\PythonSoftwareFoundation.Python.3.9_qbz5n2kfra8p0\\LocalCache\\local-packages\\Python39\\site-packages\\xgboost\\data.py:262: FutureWarning: pandas.Int64Index is deprecated and will be removed from pandas in a future version. Use pandas.Index with the appropriate dtype instead.\n",
      "  elif isinstance(data.columns, (pd.Int64Index, pd.RangeIndex)):\n"
     ]
    },
    {
     "name": "stdout",
     "output_type": "stream",
     "text": [
      "Model RMSE is:  13.830704799285373\n",
      "Model R2 Score is:  0.15758306972384373\n"
     ]
    }
   ],
   "source": [
    "data_dmatrix = xgb.DMatrix(data=X,label=y)\n",
    "xg_reg = xgb.XGBRegressor(objective ='reg:squarederror', colsample_bytree = 0.3, learning_rate = 0.1,\n",
    "                max_depth = 15, alpha = 10, n_estimators = 200)\n",
    "xg_reg.fit(X_train, y_train)\n",
    "y_pred_xgb = xg_reg.predict(X_test)\n",
    "print('Model RMSE is: ',np.sqrt(mean_squared_error(y_test, y_pred_xgb)))\n",
    "print('Model R2 Score is: ',r2_score(y_test,y_pred_xgb))"
   ]
  },
  {
   "cell_type": "markdown",
   "id": "ec04b198",
   "metadata": {},
   "source": [
    "## Predict on January 2020 Flights_test dataset\n",
    "Files can be found in:\n",
    "data/test_eval.csv"
   ]
  },
  {
   "cell_type": "code",
   "execution_count": 18,
   "id": "ff2fba8f",
   "metadata": {},
   "outputs": [],
   "source": [
    "## Import scaled test dataset (see: 5_feature_selection_test)\n",
    "test_eval = pd.read_csv('data/flights_model.csv')"
   ]
  },
  {
   "cell_type": "code",
   "execution_count": 19,
   "id": "181e6196",
   "metadata": {},
   "outputs": [],
   "source": [
    "test_eval.head()\n",
    "test_eval = test_eval.drop('arr_delay',axis=1)"
   ]
  },
  {
   "cell_type": "code",
   "execution_count": 20,
   "id": "03dfe0f5",
   "metadata": {
    "scrolled": true
   },
   "outputs": [
    {
     "name": "stderr",
     "output_type": "stream",
     "text": [
      "C:\\Users\\My account\\AppData\\Local\\Packages\\PythonSoftwareFoundation.Python.3.9_qbz5n2kfra8p0\\LocalCache\\local-packages\\Python39\\site-packages\\xgboost\\data.py:262: FutureWarning: pandas.Int64Index is deprecated and will be removed from pandas in a future version. Use pandas.Index with the appropriate dtype instead.\n",
      "  elif isinstance(data.columns, (pd.Int64Index, pd.RangeIndex)):\n"
     ]
    }
   ],
   "source": [
    "pred_test = xg_reg.predict(test_eval)"
   ]
  },
  {
   "cell_type": "code",
   "execution_count": 21,
   "id": "7b9cb699",
   "metadata": {},
   "outputs": [],
   "source": [
    "pd.DataFrame(pred_test).to_csv('data/pred_test.csv')"
   ]
  },
  {
   "cell_type": "markdown",
   "id": "b070eccb",
   "metadata": {},
   "source": [
    "## Evaluate on the test data and prepare submission file"
   ]
  },
  {
   "cell_type": "code",
   "execution_count": 22,
   "id": "5959bd74",
   "metadata": {},
   "outputs": [
    {
     "data": {
      "text/html": [
       "<div>\n",
       "<style scoped>\n",
       "    .dataframe tbody tr th:only-of-type {\n",
       "        vertical-align: middle;\n",
       "    }\n",
       "\n",
       "    .dataframe tbody tr th {\n",
       "        vertical-align: top;\n",
       "    }\n",
       "\n",
       "    .dataframe thead th {\n",
       "        text-align: right;\n",
       "    }\n",
       "</style>\n",
       "<table border=\"1\" class=\"dataframe\">\n",
       "  <thead>\n",
       "    <tr style=\"text-align: right;\">\n",
       "      <th></th>\n",
       "      <th>fl_date</th>\n",
       "      <th>mkt_unique_carrier</th>\n",
       "      <th>mkt_carrier_fl_num</th>\n",
       "      <th>origin</th>\n",
       "      <th>dest</th>\n",
       "    </tr>\n",
       "  </thead>\n",
       "  <tbody>\n",
       "    <tr>\n",
       "      <th>138036</th>\n",
       "      <td>2020-01-07</td>\n",
       "      <td>AA</td>\n",
       "      <td>5414</td>\n",
       "      <td>STL</td>\n",
       "      <td>DCA</td>\n",
       "    </tr>\n",
       "    <tr>\n",
       "      <th>116684</th>\n",
       "      <td>2020-01-06</td>\n",
       "      <td>AA</td>\n",
       "      <td>2590</td>\n",
       "      <td>SNA</td>\n",
       "      <td>ORD</td>\n",
       "    </tr>\n",
       "    <tr>\n",
       "      <th>114267</th>\n",
       "      <td>2020-01-06</td>\n",
       "      <td>DL</td>\n",
       "      <td>6065</td>\n",
       "      <td>BOS</td>\n",
       "      <td>LGA</td>\n",
       "    </tr>\n",
       "    <tr>\n",
       "      <th>68326</th>\n",
       "      <td>2020-01-04</td>\n",
       "      <td>UA</td>\n",
       "      <td>1896</td>\n",
       "      <td>ORD</td>\n",
       "      <td>SJU</td>\n",
       "    </tr>\n",
       "    <tr>\n",
       "      <th>136391</th>\n",
       "      <td>2020-01-07</td>\n",
       "      <td>DL</td>\n",
       "      <td>1985</td>\n",
       "      <td>SEA</td>\n",
       "      <td>SLC</td>\n",
       "    </tr>\n",
       "  </tbody>\n",
       "</table>\n",
       "</div>"
      ],
      "text/plain": [
       "           fl_date mkt_unique_carrier  mkt_carrier_fl_num origin dest\n",
       "138036  2020-01-07                 AA                5414    STL  DCA\n",
       "116684  2020-01-06                 AA                2590    SNA  ORD\n",
       "114267  2020-01-06                 DL                6065    BOS  LGA\n",
       "68326   2020-01-04                 UA                1896    ORD  SJU\n",
       "136391  2020-01-07                 DL                1985    SEA  SLC"
      ]
     },
     "execution_count": 22,
     "metadata": {},
     "output_type": "execute_result"
    }
   ],
   "source": [
    "df = pd.read_csv(\"data/flights_test.csv\")\n",
    "df_submission = df.copy()\n",
    "df_submission = df_submission[[\"fl_date\",\"mkt_unique_carrier\",\"mkt_carrier_fl_num\", \"origin\",\"dest\"]]\n",
    "df_submission.sample(5)"
   ]
  },
  {
   "cell_type": "code",
   "execution_count": 23,
   "id": "b8233bed",
   "metadata": {},
   "outputs": [],
   "source": [
    "y = pd.read_csv('data/pred_test.csv')"
   ]
  },
  {
   "cell_type": "code",
   "execution_count": 24,
   "id": "43790dbc",
   "metadata": {},
   "outputs": [],
   "source": [
    "y_pred = y[\"0\"].values"
   ]
  },
  {
   "cell_type": "code",
   "execution_count": 25,
   "id": "223e803b",
   "metadata": {},
   "outputs": [],
   "source": [
    "y_predicted = pd.DataFrame(data = y_pred,\n",
    "                    columns = [\"predicted_delay\"])"
   ]
  },
  {
   "cell_type": "code",
   "execution_count": 26,
   "id": "e411e93f",
   "metadata": {},
   "outputs": [
    {
     "data": {
      "text/html": [
       "<div>\n",
       "<style scoped>\n",
       "    .dataframe tbody tr th:only-of-type {\n",
       "        vertical-align: middle;\n",
       "    }\n",
       "\n",
       "    .dataframe tbody tr th {\n",
       "        vertical-align: top;\n",
       "    }\n",
       "\n",
       "    .dataframe thead th {\n",
       "        text-align: right;\n",
       "    }\n",
       "</style>\n",
       "<table border=\"1\" class=\"dataframe\">\n",
       "  <thead>\n",
       "    <tr style=\"text-align: right;\">\n",
       "      <th></th>\n",
       "      <th>fl_date</th>\n",
       "      <th>mkt_unique_carrier</th>\n",
       "      <th>mkt_carrier_fl_num</th>\n",
       "      <th>origin</th>\n",
       "      <th>dest</th>\n",
       "      <th>predicted_delay</th>\n",
       "    </tr>\n",
       "  </thead>\n",
       "  <tbody>\n",
       "    <tr>\n",
       "      <th>0</th>\n",
       "      <td>2020-01-01</td>\n",
       "      <td>WN</td>\n",
       "      <td>5888</td>\n",
       "      <td>ONT</td>\n",
       "      <td>SFO</td>\n",
       "      <td>-12.295573</td>\n",
       "    </tr>\n",
       "    <tr>\n",
       "      <th>1</th>\n",
       "      <td>2020-01-01</td>\n",
       "      <td>WN</td>\n",
       "      <td>6276</td>\n",
       "      <td>ONT</td>\n",
       "      <td>SFO</td>\n",
       "      <td>8.637155</td>\n",
       "    </tr>\n",
       "    <tr>\n",
       "      <th>2</th>\n",
       "      <td>2020-01-01</td>\n",
       "      <td>WN</td>\n",
       "      <td>4598</td>\n",
       "      <td>ONT</td>\n",
       "      <td>SJC</td>\n",
       "      <td>-6.269744</td>\n",
       "    </tr>\n",
       "    <tr>\n",
       "      <th>3</th>\n",
       "      <td>2020-01-01</td>\n",
       "      <td>WN</td>\n",
       "      <td>4761</td>\n",
       "      <td>ONT</td>\n",
       "      <td>SJC</td>\n",
       "      <td>-3.930248</td>\n",
       "    </tr>\n",
       "    <tr>\n",
       "      <th>4</th>\n",
       "      <td>2020-01-01</td>\n",
       "      <td>WN</td>\n",
       "      <td>5162</td>\n",
       "      <td>ONT</td>\n",
       "      <td>SJC</td>\n",
       "      <td>-8.441968</td>\n",
       "    </tr>\n",
       "  </tbody>\n",
       "</table>\n",
       "</div>"
      ],
      "text/plain": [
       "      fl_date mkt_unique_carrier  mkt_carrier_fl_num origin dest  \\\n",
       "0  2020-01-01                 WN                5888    ONT  SFO   \n",
       "1  2020-01-01                 WN                6276    ONT  SFO   \n",
       "2  2020-01-01                 WN                4598    ONT  SJC   \n",
       "3  2020-01-01                 WN                4761    ONT  SJC   \n",
       "4  2020-01-01                 WN                5162    ONT  SJC   \n",
       "\n",
       "   predicted_delay  \n",
       "0       -12.295573  \n",
       "1         8.637155  \n",
       "2        -6.269744  \n",
       "3        -3.930248  \n",
       "4        -8.441968  "
      ]
     },
     "execution_count": 26,
     "metadata": {},
     "output_type": "execute_result"
    }
   ],
   "source": [
    "final_pred = df_submission.merge(y_predicted, right_index = True, left_index = True)\n",
    "final_pred.head()"
   ]
  },
  {
   "cell_type": "code",
   "execution_count": 27,
   "id": "ca2b678c",
   "metadata": {},
   "outputs": [],
   "source": [
    "final_pred.to_csv(\"submission.csv\", index=False)"
   ]
  },
  {
   "cell_type": "code",
   "execution_count": 28,
   "id": "6e6e78b8",
   "metadata": {},
   "outputs": [
    {
     "data": {
      "text/html": [
       "<div>\n",
       "<style scoped>\n",
       "    .dataframe tbody tr th:only-of-type {\n",
       "        vertical-align: middle;\n",
       "    }\n",
       "\n",
       "    .dataframe tbody tr th {\n",
       "        vertical-align: top;\n",
       "    }\n",
       "\n",
       "    .dataframe thead th {\n",
       "        text-align: right;\n",
       "    }\n",
       "</style>\n",
       "<table border=\"1\" class=\"dataframe\">\n",
       "  <thead>\n",
       "    <tr style=\"text-align: right;\">\n",
       "      <th></th>\n",
       "      <th>fl_date</th>\n",
       "      <th>mkt_unique_carrier</th>\n",
       "      <th>mkt_carrier_fl_num</th>\n",
       "      <th>origin</th>\n",
       "      <th>dest</th>\n",
       "      <th>predicted_delay</th>\n",
       "    </tr>\n",
       "  </thead>\n",
       "  <tbody>\n",
       "    <tr>\n",
       "      <th>0</th>\n",
       "      <td>2020-01-01</td>\n",
       "      <td>WN</td>\n",
       "      <td>5888</td>\n",
       "      <td>ONT</td>\n",
       "      <td>SFO</td>\n",
       "      <td>-12.295573</td>\n",
       "    </tr>\n",
       "    <tr>\n",
       "      <th>1</th>\n",
       "      <td>2020-01-01</td>\n",
       "      <td>WN</td>\n",
       "      <td>6276</td>\n",
       "      <td>ONT</td>\n",
       "      <td>SFO</td>\n",
       "      <td>8.637155</td>\n",
       "    </tr>\n",
       "    <tr>\n",
       "      <th>2</th>\n",
       "      <td>2020-01-01</td>\n",
       "      <td>WN</td>\n",
       "      <td>4598</td>\n",
       "      <td>ONT</td>\n",
       "      <td>SJC</td>\n",
       "      <td>-6.269744</td>\n",
       "    </tr>\n",
       "    <tr>\n",
       "      <th>3</th>\n",
       "      <td>2020-01-01</td>\n",
       "      <td>WN</td>\n",
       "      <td>4761</td>\n",
       "      <td>ONT</td>\n",
       "      <td>SJC</td>\n",
       "      <td>-3.930248</td>\n",
       "    </tr>\n",
       "    <tr>\n",
       "      <th>4</th>\n",
       "      <td>2020-01-01</td>\n",
       "      <td>WN</td>\n",
       "      <td>5162</td>\n",
       "      <td>ONT</td>\n",
       "      <td>SJC</td>\n",
       "      <td>-8.441968</td>\n",
       "    </tr>\n",
       "    <tr>\n",
       "      <th>...</th>\n",
       "      <td>...</td>\n",
       "      <td>...</td>\n",
       "      <td>...</td>\n",
       "      <td>...</td>\n",
       "      <td>...</td>\n",
       "      <td>...</td>\n",
       "    </tr>\n",
       "    <tr>\n",
       "      <th>150618</th>\n",
       "      <td>2020-01-07</td>\n",
       "      <td>DL</td>\n",
       "      <td>4813</td>\n",
       "      <td>DTW</td>\n",
       "      <td>JFK</td>\n",
       "      <td>-0.722606</td>\n",
       "    </tr>\n",
       "    <tr>\n",
       "      <th>150619</th>\n",
       "      <td>2020-01-07</td>\n",
       "      <td>DL</td>\n",
       "      <td>4814</td>\n",
       "      <td>GSP</td>\n",
       "      <td>LGA</td>\n",
       "      <td>-4.348841</td>\n",
       "    </tr>\n",
       "    <tr>\n",
       "      <th>150620</th>\n",
       "      <td>2020-01-07</td>\n",
       "      <td>DL</td>\n",
       "      <td>4815</td>\n",
       "      <td>ATL</td>\n",
       "      <td>XNA</td>\n",
       "      <td>-20.867384</td>\n",
       "    </tr>\n",
       "    <tr>\n",
       "      <th>150621</th>\n",
       "      <td>2020-01-07</td>\n",
       "      <td>DL</td>\n",
       "      <td>4815</td>\n",
       "      <td>XNA</td>\n",
       "      <td>ATL</td>\n",
       "      <td>-6.872995</td>\n",
       "    </tr>\n",
       "    <tr>\n",
       "      <th>150622</th>\n",
       "      <td>2020-01-07</td>\n",
       "      <td>DL</td>\n",
       "      <td>4816</td>\n",
       "      <td>PWM</td>\n",
       "      <td>LGA</td>\n",
       "      <td>-0.753223</td>\n",
       "    </tr>\n",
       "  </tbody>\n",
       "</table>\n",
       "<p>150623 rows × 6 columns</p>\n",
       "</div>"
      ],
      "text/plain": [
       "           fl_date mkt_unique_carrier  mkt_carrier_fl_num origin dest  \\\n",
       "0       2020-01-01                 WN                5888    ONT  SFO   \n",
       "1       2020-01-01                 WN                6276    ONT  SFO   \n",
       "2       2020-01-01                 WN                4598    ONT  SJC   \n",
       "3       2020-01-01                 WN                4761    ONT  SJC   \n",
       "4       2020-01-01                 WN                5162    ONT  SJC   \n",
       "...            ...                ...                 ...    ...  ...   \n",
       "150618  2020-01-07                 DL                4813    DTW  JFK   \n",
       "150619  2020-01-07                 DL                4814    GSP  LGA   \n",
       "150620  2020-01-07                 DL                4815    ATL  XNA   \n",
       "150621  2020-01-07                 DL                4815    XNA  ATL   \n",
       "150622  2020-01-07                 DL                4816    PWM  LGA   \n",
       "\n",
       "        predicted_delay  \n",
       "0            -12.295573  \n",
       "1              8.637155  \n",
       "2             -6.269744  \n",
       "3             -3.930248  \n",
       "4             -8.441968  \n",
       "...                 ...  \n",
       "150618        -0.722606  \n",
       "150619        -4.348841  \n",
       "150620       -20.867384  \n",
       "150621        -6.872995  \n",
       "150622        -0.753223  \n",
       "\n",
       "[150623 rows x 6 columns]"
      ]
     },
     "execution_count": 28,
     "metadata": {},
     "output_type": "execute_result"
    }
   ],
   "source": [
    "final_pred"
   ]
  }
 ],
 "metadata": {
  "kernelspec": {
   "display_name": "Python 3 (ipykernel)",
   "language": "python",
   "name": "python3"
  },
  "language_info": {
   "codemirror_mode": {
    "name": "ipython",
    "version": 3
   },
   "file_extension": ".py",
   "mimetype": "text/x-python",
   "name": "python",
   "nbconvert_exporter": "python",
   "pygments_lexer": "ipython3",
   "version": "3.9.13"
  }
 },
 "nbformat": 4,
 "nbformat_minor": 5
}
